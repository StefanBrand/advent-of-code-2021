{
 "cells": [
  {
   "cell_type": "markdown",
   "id": "7d6631e3-70ca-4292-be17-78707df555fa",
   "metadata": {
    "jp-MarkdownHeadingCollapsed": true,
    "tags": []
   },
   "source": [
    "## Day 1"
   ]
  },
  {
   "cell_type": "code",
   "execution_count": 1,
   "id": "3b097187-addc-48d8-9628-8074a115fe90",
   "metadata": {
    "jupyter": {
     "source_hidden": true
    },
    "tags": []
   },
   "outputs": [],
   "source": [
    "with open(\"input01.txt\") as file:\n",
    "    depths = [int(d) for d in file]"
   ]
  },
  {
   "cell_type": "code",
   "execution_count": 2,
   "id": "b6fec380-cada-4bb1-b754-602c3418a74f",
   "metadata": {},
   "outputs": [
    {
     "data": {
      "text/plain": [
       "1624"
      ]
     },
     "execution_count": 2,
     "metadata": {},
     "output_type": "execute_result"
    }
   ],
   "source": [
    "from itertools import zip_longest\n",
    "sum([previous < current for previous,current in zip(depths, depths[1:])])"
   ]
  },
  {
   "cell_type": "code",
   "execution_count": 3,
   "id": "92533bf4-13e2-4622-8738-bee762e504a0",
   "metadata": {},
   "outputs": [
    {
     "data": {
      "text/plain": [
       "1653"
      ]
     },
     "execution_count": 3,
     "metadata": {},
     "output_type": "execute_result"
    }
   ],
   "source": [
    "cum_depths = [sum(window) for window in zip(depths, depths[1:], depths[2:])]\n",
    "sum([previous < current for previous,current in zip(cum_depths, cum_depths[1:])])"
   ]
  },
  {
   "cell_type": "markdown",
   "id": "a38ab1d8-5f16-4cfb-84ce-c055a75bd617",
   "metadata": {
    "jp-MarkdownHeadingCollapsed": true,
    "tags": []
   },
   "source": [
    "## Day 2"
   ]
  },
  {
   "cell_type": "code",
   "execution_count": 4,
   "id": "78ec842f-a63f-41d9-9b0f-79add1ae6505",
   "metadata": {},
   "outputs": [],
   "source": [
    "with open(\"input02.txt\") as file:\n",
    "    directions = [tuple(direction.split(\" \")) for direction in file]"
   ]
  },
  {
   "cell_type": "code",
   "execution_count": 5,
   "id": "7dbb7ea9-8c57-438e-ac7c-e48128e34247",
   "metadata": {},
   "outputs": [
    {
     "data": {
      "text/plain": [
       "1524750"
      ]
     },
     "execution_count": 5,
     "metadata": {},
     "output_type": "execute_result"
    }
   ],
   "source": [
    "from collections import defaultdict\n",
    "d = defaultdict(int)\n",
    "\n",
    "for direction, distance in directions:\n",
    "    d[direction] += int(distance)\n",
    "    \n",
    "vertical = d[\"down\"] - d[\"up\"]\n",
    "vertical * d[\"forward\"]"
   ]
  },
  {
   "cell_type": "code",
   "execution_count": 6,
   "id": "1c7afb76-9e35-43f3-ac22-abfd0f0d129c",
   "metadata": {},
   "outputs": [
    {
     "data": {
      "text/plain": [
       "1592426537"
      ]
     },
     "execution_count": 6,
     "metadata": {},
     "output_type": "execute_result"
    }
   ],
   "source": [
    "aim = 0\n",
    "horizontal = 0\n",
    "depth = 0\n",
    "\n",
    "for direction, distance in directions:\n",
    "    distance = int(distance)\n",
    "    \n",
    "    if direction == \"up\": aim -= distance\n",
    "    if direction == \"down\": aim += distance\n",
    "    if direction == \"forward\":\n",
    "        horizontal += distance\n",
    "        depth += aim * distance\n",
    "        \n",
    "horizontal * depth"
   ]
  },
  {
   "cell_type": "markdown",
   "id": "c0a414dd-8c09-48aa-b169-6cb092e1930f",
   "metadata": {
    "jp-MarkdownHeadingCollapsed": true,
    "tags": []
   },
   "source": [
    "## Day 3"
   ]
  },
  {
   "cell_type": "code",
   "execution_count": 7,
   "id": "c3bde6e2-16ca-46e3-9b7a-81e9a63155c3",
   "metadata": {},
   "outputs": [
    {
     "data": {
      "text/plain": [
       "1307354"
      ]
     },
     "execution_count": 7,
     "metadata": {},
     "output_type": "execute_result"
    }
   ],
   "source": [
    "from collections import Counter\n",
    "\n",
    "with open(\"input03.txt\") as file:\n",
    "    numbers = file.readlines()\n",
    "    \n",
    "matrix = list(zip(*[[n for n in number.replace(\"\\n\", \"\")] for number in numbers]))\n",
    "\n",
    "counters = [Counter(digits) for digits in matrix]\n",
    "gamma_rate = int(\"\".join([counter.most_common()[0][0] for counter in counters]), base=2)\n",
    "epsilon_rate = int(\"\".join([counter.most_common()[-1][0] for counter in counters]), base=2)\n",
    "gamma_rate * epsilon_rate"
   ]
  },
  {
   "cell_type": "code",
   "execution_count": 8,
   "id": "d8a64c3a-ea4c-421e-a39d-3938d0d66f41",
   "metadata": {},
   "outputs": [
    {
     "data": {
      "text/plain": [
       "482500"
      ]
     },
     "execution_count": 8,
     "metadata": {},
     "output_type": "execute_result"
    }
   ],
   "source": [
    "from collections import Counter\n",
    "from dataclasses import dataclass\n",
    "\n",
    "@dataclass(frozen=True)\n",
    "class Metric:\n",
    "    index: int\n",
    "    tie_breaker: str\n",
    "    \n",
    "oxygen = Metric(0, \"1\")\n",
    "co2 = Metric(1, \"0\")\n",
    "\n",
    "\n",
    "with open(\"input03.txt\") as file:\n",
    "    numbers = [line.replace(\"\\n\", \"\") for line in file]\n",
    "    \n",
    "def find_rating(numbers, metric: Metric, current_bit=0):\n",
    "    if len(numbers) == 1:\n",
    "        \n",
    "        return int(numbers[0], base=2)\n",
    "    \n",
    "    matrix = list(zip(*[[n for n in number] for number in numbers]))\n",
    "    sorted_counts = Counter(matrix[current_bit]).most_common()\n",
    "    most_common_digit, count = sorted_counts[metric.index]\n",
    "        \n",
    "    if sorted_counts[abs(metric.index-1)][1] == count:\n",
    "        most_common_digit = metric.tie_breaker\n",
    "        \n",
    "    return find_rating(\n",
    "        list(filter(lambda n: n[current_bit]==most_common_digit, numbers)),\n",
    "        metric,\n",
    "        current_bit+1,\n",
    "    )\n",
    "    \n",
    "find_rating(numbers, oxygen) * find_rating(numbers, co2)"
   ]
  },
  {
   "cell_type": "markdown",
   "id": "0ed912ea-8bd5-4c22-9884-7dce3b6bb326",
   "metadata": {},
   "source": [
    "## Day 4"
   ]
  },
  {
   "cell_type": "code",
   "execution_count": 9,
   "id": "20c96255-eb19-4a2a-801f-89efb08b9ceb",
   "metadata": {
    "pycharm": {
     "name": "#%%\n"
    }
   },
   "outputs": [],
   "source": [
    "import numpy as np\n",
    "from numpy import ma\n",
    "\n",
    "with open(\"input04.txt\") as file:\n",
    "    data = [line.replace(\"\\n\", \"\") for line in file]\n",
    "    \n",
    "bingo_boards = [data[2:][i*6:i*6+5] for i in range(int((len(data)-1)/6))]\n",
    "bingo_boards = [[list(filter(lambda x: x != \"\", b.split(\" \"))) for b in board] for board in bingo_boards]\n",
    "\n",
    "bingo_boards = [ma.array(board, mask=np.zeros(shape=(5,5))).astype(int) for board in bingo_boards]\n",
    "\n",
    "bingo_numbers = [int(number) for number in data[0].split(\",\")]"
   ]
  },
  {
   "cell_type": "code",
   "execution_count": 67,
   "id": "3508cee8",
   "metadata": {},
   "outputs": [
    {
     "data": {
      "text/plain": [
       "4008"
      ]
     },
     "execution_count": 67,
     "metadata": {},
     "output_type": "execute_result"
    }
   ],
   "source": [
    "def play_bingo(bingo_numbers, bingo_boards) -> int:\n",
    "    for number in bingo_numbers:\n",
    "        for board in bingo_boards:\n",
    "            board.mask |= board==number  # evaluate number\n",
    "\n",
    "            column_bingo = np.any(np.all(board.mask, axis=0))  # check columns for bingo\n",
    "            row_bingo = np.any(np.all(board.mask, axis=1))  # check rows for bingo\n",
    "\n",
    "            if column_bingo or row_bingo:\n",
    "                 return board.sum() * number\n",
    "\n",
    "play_bingo(bingo_numbers, bingo_boards)"
   ]
  },
  {
   "cell_type": "code",
   "execution_count": 80,
   "id": "ed611f41",
   "metadata": {},
   "outputs": [
    {
     "name": "stdout",
     "output_type": "stream",
     "text": [
      "BingoBoard(array=masked_array(\n",
      "  data=[[--, --, --, 42, --],\n",
      "        [--, --, 98, --, --],\n",
      "        [--, --, --, 20, --],\n",
      "        [56, --, --, --, 81],\n",
      "        [--, --, --, --, 61]],\n",
      "  mask=[[ True,  True,  True, False,  True],\n",
      "        [ True,  True, False,  True,  True],\n",
      "        [ True,  True,  True, False,  True],\n",
      "        [False,  True,  True,  True, False],\n",
      "        [ True,  True,  True,  True, False]],\n",
      "  fill_value=999999), rank=100, number=97)\n"
     ]
    },
    {
     "data": {
      "text/plain": [
       "34726"
      ]
     },
     "execution_count": 80,
     "metadata": {},
     "output_type": "execute_result"
    }
   ],
   "source": [
    "from dataclasses import dataclass\n",
    "from itertools import count\n",
    "\n",
    "@dataclass\n",
    "class BingoBoard:\n",
    "    array: ma.array\n",
    "    rank: int = None\n",
    "    number: int = None\n",
    "\n",
    "def play_bingo_last(bingo_numbers, bingo_boards) -> int:\n",
    "    ranks = count(1)\n",
    "    bingo_board_instances = [BingoBoard(board) for board in bingo_boards]\n",
    "\n",
    "    for number in bingo_numbers:\n",
    "        for board in bingo_board_instances:\n",
    "            if not board.rank:\n",
    "                board.array.mask |= board.array==number  # evaluate number\n",
    "\n",
    "                column_bingo = np.any(np.all(board.array.mask, axis=0))  # check columns for bingo\n",
    "                row_bingo = np.any(np.all(board.array.mask, axis=1))  # check rows for bingo\n",
    "\n",
    "                if column_bingo or row_bingo:\n",
    "                    board.rank = next(ranks)\n",
    "                    board.number = number\n",
    "\n",
    "    last_bingo = sorted(bingo_board_instances, key=lambda board: board.rank, reverse=True)[0]\n",
    "    print(last_bingo)\n",
    "    return last_bingo.array.sum() * last_bingo.number\n",
    "\n",
    "# reset boards\n",
    "for board in bingo_boards:\n",
    "    board.mask = np.zeros(board.shape)\n",
    "\n",
    "play_bingo_last(bingo_numbers, bingo_boards)"
   ]
  }
 ],
 "metadata": {
  "interpreter": {
   "hash": "b038f870bc621eba3bc7d1093eafc3d5abdd59c593b88b585268dabf7f630703"
  },
  "kernelspec": {
   "display_name": "Python 3.8.10 64-bit",
   "language": "python",
   "name": "python3"
  },
  "language_info": {
   "codemirror_mode": {
    "name": "ipython",
    "version": 3
   },
   "file_extension": ".py",
   "mimetype": "text/x-python",
   "name": "python",
   "nbconvert_exporter": "python",
   "pygments_lexer": "ipython3",
   "version": "3.8.10"
  }
 },
 "nbformat": 4,
 "nbformat_minor": 5
}
