{
 "cells": [
  {
   "cell_type": "code",
   "execution_count": 1,
   "metadata": {},
   "outputs": [],
   "source": [
    "import re\n",
    "\n",
    "import numpy as np\n",
    "\n",
    "with open(\"input.txt\") as file:\n",
    "    dots = [tuple(map(int, line.rstrip().split(\",\"))) for line in file if \",\" in line]\n",
    "    file.seek(0)\n",
    "    fold_instructions = [re.search(r\"([xy])=(\\d+)\", line).groups() for line in file if \"=\" in line]"
   ]
  },
  {
   "cell_type": "code",
   "execution_count": 2,
   "metadata": {},
   "outputs": [],
   "source": [
    "xs, ys = list(zip(*dots))\n",
    "sheet = np.zeros((max(ys) + 1, max(xs) + 1), dtype=bool)\n",
    "\n",
    "for x, y in dots:\n",
    "    sheet[y][x] = 1\n",
    "\n",
    "axis_mapping = {\"x\": 1, \"y\": 0}\n",
    "\n",
    "for axis, position in fold_instructions:\n",
    "    axis = axis_mapping[axis]\n",
    "\n",
    "    one, _, other = np.split(sheet, [int(position), int(position) + 1], axis=axis)\n",
    "    other_flipped = np.flip(other, axis=axis)\n",
    "    other_padded = np.insert(\n",
    "        other_flipped,\n",
    "        [0] * (one.shape[axis] - other_flipped.shape[axis]),\n",
    "        [False],\n",
    "        axis=axis,\n",
    "    )\n",
    "    sheet = one | other_padded\n"
   ]
  },
  {
   "cell_type": "code",
   "execution_count": 3,
   "metadata": {},
   "outputs": [
    {
     "data": {
      "text/plain": [
       "<matplotlib.image.AxesImage at 0x23ae74999f0>"
      ]
     },
     "execution_count": 3,
     "metadata": {},
     "output_type": "execute_result"
    },
    {
     "data": {
      "image/png": "[encoded data removed]",
      "text/plain": [
       "<Figure size 432x288 with 1 Axes>"
      ]
     },
     "metadata": {
      "needs_background": "light"
     },
     "output_type": "display_data"
    }
   ],
   "source": [
    "import matplotlib.pyplot as plt\n",
    "plt.imshow(sheet)"
   ]
  }
 ],
 "metadata": {
  "interpreter": {
   "hash": "13302b11b04c8af21dfb4d165ff21b5bcb8301335ea41463c25fd0f19323d417"
  },
  "kernelspec": {
   "display_name": "Python 3.10.1 64-bit ('advent-of-code': virtualenv)",
   "language": "python",
   "name": "python3"
  },
  "language_info": {
   "codemirror_mode": {
    "name": "ipython",
    "version": 3
   },
   "file_extension": ".py",
   "mimetype": "text/x-python",
   "name": "python",
   "nbconvert_exporter": "python",
   "pygments_lexer": "ipython3",
   "version": "3.10.1"
  },
  "orig_nbformat": 4
 },
 "nbformat": 4,
 "nbformat_minor": 2
}
