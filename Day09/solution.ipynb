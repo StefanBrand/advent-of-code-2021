{
 "cells": [
  {
   "cell_type": "code",
   "execution_count": 1,
   "metadata": {},
   "outputs": [
    {
     "data": {
      "text/plain": [
       "array([[7, 6, 5, ..., 9, 8, 7],\n",
       "       [9, 9, 8, ..., 9, 7, 6],\n",
       "       [9, 8, 7, ..., 9, 6, 4],\n",
       "       ...,\n",
       "       [1, 0, 7, ..., 9, 1, 9],\n",
       "       [2, 1, 8, ..., 1, 0, 1],\n",
       "       [3, 2, 4, ..., 9, 2, 3]])"
      ]
     },
     "execution_count": 1,
     "metadata": {},
     "output_type": "execute_result"
    }
   ],
   "source": [
    "import numpy as np\n",
    "\n",
    "with open(\"input.txt\") as file:\n",
    "    heightmap = np.genfromtxt(file, delimiter=1, dtype=int)\n",
    "\n",
    "heightmap"
   ]
  },
  {
   "cell_type": "markdown",
   "metadata": {},
   "source": [
    "## Part 1"
   ]
  },
  {
   "cell_type": "code",
   "execution_count": 2,
   "metadata": {},
   "outputs": [
    {
     "data": {
      "text/plain": [
       "489"
      ]
     },
     "execution_count": 2,
     "metadata": {},
     "output_type": "execute_result"
    }
   ],
   "source": [
    "import numpy as np\n",
    "from numpy import ma\n",
    "from scipy import ndimage\n",
    "\n",
    "\n",
    "def find_low_points(values):\n",
    "    return True if values[2] < sorted(values)[1] else False\n",
    "\n",
    "\n",
    "plus = np.array([[0, 1, 0], [1, 1, 1], [0, 1, 0]])\n",
    "\n",
    "low_points = ndimage.generic_filter(\n",
    "    heightmap, find_low_points, footprint=plus, mode=\"constant\", cval=100\n",
    ").astype(bool)\n",
    "\n",
    "(ma.array(heightmap, mask=np.invert(low_points)) +1).sum()"
   ]
  },
  {
   "cell_type": "markdown",
   "metadata": {},
   "source": [
    "## Part 2"
   ]
  },
  {
   "cell_type": "code",
   "execution_count": 3,
   "metadata": {},
   "outputs": [
    {
     "data": {
      "text/plain": [
       "1056330"
      ]
     },
     "execution_count": 3,
     "metadata": {},
     "output_type": "execute_result"
    }
   ],
   "source": [
    "from collections import Counter\n",
    "from math import prod\n",
    "basins = ndimage.label(heightmap<9)[0]\n",
    "basin_sizes = Counter(basins.flatten())\n",
    "del basin_sizes[0]\n",
    "prod(size for basin, size in basin_sizes.most_common(3))"
   ]
  }
 ],
 "metadata": {
  "interpreter": {
   "hash": "13302b11b04c8af21dfb4d165ff21b5bcb8301335ea41463c25fd0f19323d417"
  },
  "kernelspec": {
   "display_name": "Python 3.10.1 64-bit ('advent-of-code': virtualenv)",
   "language": "python",
   "name": "python3"
  },
  "language_info": {
   "codemirror_mode": {
    "name": "ipython",
    "version": 3
   },
   "file_extension": ".py",
   "mimetype": "text/x-python",
   "name": "python",
   "nbconvert_exporter": "python",
   "pygments_lexer": "ipython3",
   "version": "3.10.1"
  },
  "orig_nbformat": 4
 },
 "nbformat": 4,
 "nbformat_minor": 2
}
