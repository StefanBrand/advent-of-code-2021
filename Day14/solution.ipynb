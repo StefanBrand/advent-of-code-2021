{
 "cells": [
  {
   "cell_type": "code",
   "execution_count": 1,
   "metadata": {},
   "outputs": [],
   "source": [
    "with open(\"input.txt\") as file:\n",
    "    data = [line for line in file]\n",
    "    polymer_template = data[0].rstrip()\n",
    "    insertion_rules = [tuple(rule.rstrip().split(\" -> \")) for rule in data[2:]]"
   ]
  },
  {
   "cell_type": "code",
   "execution_count": 2,
   "metadata": {},
   "outputs": [
    {
     "data": {
      "text/plain": [
       "3459174981021"
      ]
     },
     "execution_count": 2,
     "metadata": {},
     "output_type": "execute_result"
    }
   ],
   "source": [
    "from collections import Counter\n",
    "from itertools import pairwise\n",
    "\n",
    "polymer_pairs = [\"\".join(pair) for pair in pairwise(polymer_template)]\n",
    "polymer = Counter(polymer_pairs)\n",
    "\n",
    "for i in range(40):\n",
    "    next_polymer = Counter()\n",
    "    for pair, insertion in insertion_rules:\n",
    "        if(count_of_pair := polymer.pop(pair, None)):\n",
    "            next_polymer[pair[0] + insertion] += count_of_pair\n",
    "            next_polymer[insertion + pair[1]] += count_of_pair\n",
    "\n",
    "    polymer = next_polymer.copy()\n",
    "\n",
    "letters = Counter(polymer_template[-1])  # last letter's count is one too few\n",
    "for pair in polymer:\n",
    "    letters[pair[0]] += polymer[pair] \n",
    "\n",
    "letters.most_common()[0][1] - letters.most_common()[-1][1]"
   ]
  }
 ],
 "metadata": {
  "interpreter": {
   "hash": "13302b11b04c8af21dfb4d165ff21b5bcb8301335ea41463c25fd0f19323d417"
  },
  "kernelspec": {
   "display_name": "Python 3.10.1 64-bit ('advent-of-code': virtualenv)",
   "language": "python",
   "name": "python3"
  },
  "language_info": {
   "codemirror_mode": {
    "name": "ipython",
    "version": 3
   },
   "file_extension": ".py",
   "mimetype": "text/x-python",
   "name": "python",
   "nbconvert_exporter": "python",
   "pygments_lexer": "ipython3",
   "version": "3.10.1"
  },
  "orig_nbformat": 4
 },
 "nbformat": 4,
 "nbformat_minor": 2
}
