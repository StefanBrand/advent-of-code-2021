{
 "cells": [
  {
   "cell_type": "code",
   "execution_count": 16,
   "metadata": {},
   "outputs": [],
   "source": [
    "with open(\"example.txt\") as file:\n",
    "    data = [line for line in file]\n",
    "    polymer_template = data[0].rstrip()\n",
    "    insertion_rules = [tuple(rule.rstrip().split(\" -> \")) for rule in data[2:]]"
   ]
  },
  {
   "cell_type": "code",
   "execution_count": 19,
   "metadata": {},
   "outputs": [
    {
     "data": {
      "text/plain": [
       "Counter({'CH': 1,\n",
       "         'CB': 1,\n",
       "         'HB': 1,\n",
       "         'NB': 4,\n",
       "         'BN': 2,\n",
       "         'BB': 3,\n",
       "         'BC': 3,\n",
       "         'CC': 1,\n",
       "         'CN': 1})"
      ]
     },
     "execution_count": 19,
     "metadata": {},
     "output_type": "execute_result"
    }
   ],
   "source": [
    "from collections import Counter\n",
    "from itertools import pairwise\n",
    "\n",
    "polymer_pairs = [\"\".join(pair) for pair in pairwise(polymer_template)]\n",
    "polymer = Counter(polymer_pairs)\n",
    "\n",
    "for pair, insertion in insertion_rules:\n",
    "    if count_of_pair := polymer.pop(pair, None):\n",
    "        polymer[pair[0] + insertion] += count_of_pair\n",
    "        polymer[insertion + pair[1]] += count_of_pair\n",
    "\n",
    "polymer"
   ]
  }
 ],
 "metadata": {
  "interpreter": {
   "hash": "13302b11b04c8af21dfb4d165ff21b5bcb8301335ea41463c25fd0f19323d417"
  },
  "kernelspec": {
   "display_name": "Python 3.10.1 64-bit ('advent-of-code': virtualenv)",
   "language": "python",
   "name": "python3"
  },
  "language_info": {
   "codemirror_mode": {
    "name": "ipython",
    "version": 3
   },
   "file_extension": ".py",
   "mimetype": "text/x-python",
   "name": "python",
   "nbconvert_exporter": "python",
   "pygments_lexer": "ipython3",
   "version": "3.10.1"
  },
  "orig_nbformat": 4
 },
 "nbformat": 4,
 "nbformat_minor": 2
}
